{
 "cells": [
  {
   "cell_type": "code",
   "execution_count": null,
   "metadata": {},
   "outputs": [],
   "source": [
    "import numpy as np \n",
    "L = np.array([-1,3,4,2,1])\n",
    "L.argsort()"
   ]
  },
  {
   "cell_type": "code",
   "execution_count": null,
   "metadata": {},
   "outputs": [],
   "source": [
    "import numpy as np \n",
    "L = np.array(range(4*12)).reshape(12,4)\n",
    "k = 4\n",
    "num_val = len(L) // k\n",
    "print(\"num_val=%d\" % num_val)\n",
    "for i in range(k):\n",
    "    val_data = L[i*num_val : (i+1)*num_val]\n",
    "    print(\"{0}:val_data {1}\".format(i,val_data))\n",
    "    train_data = np.concatenate((L[:i*num_val],L[(i+1)*num_val:]),axis=0)\n",
    "    print(\"{0}:train_data {1}\".format(i,train_data))"
   ]
  },
  {
   "cell_type": "code",
   "execution_count": null,
   "metadata": {},
   "outputs": [],
   "source": [
    "import numpy as np \n",
    "L = np.array(range(12))\n",
    "print(L[:0],L[len(L):])\n"
   ]
  }
 ],
 "metadata": {
  "language_info": {
   "codemirror_mode": {
    "name": "ipython",
    "version": 3
   },
   "file_extension": ".py",
   "mimetype": "text/x-python",
   "name": "python",
   "nbconvert_exporter": "python",
   "pygments_lexer": "ipython3",
   "version": "3.8.2-final"
  },
  "orig_nbformat": 2,
  "kernelspec": {
   "name": "python38264bit6c0ff70bb0df4d4db11d34c0a63b8b7d",
   "display_name": "Python 3.8.2 64-bit"
  }
 },
 "nbformat": 4,
 "nbformat_minor": 2
}